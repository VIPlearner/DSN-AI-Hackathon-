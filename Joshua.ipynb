{
  "cells": [
    {
      "cell_type": "markdown",
      "metadata": {
        "id": "view-in-github",
        "colab_type": "text"
      },
      "source": [
        "<a href=\"https://colab.research.google.com/github/VIPlearner/csv-files/blob/main/Joshua.ipynb\" target=\"_parent\"><img src=\"https://colab.research.google.com/assets/colab-badge.svg\" alt=\"Open In Colab\"/></a>"
      ]
    },
    {
      "cell_type": "code",
      "execution_count": null,
      "metadata": {
        "id": "81e4d5a3",
        "colab": {
          "base_uri": "https://localhost:8080/"
        },
        "outputId": "3f428821-dc9d-4113-d0f6-f45124cb516c"
      },
      "outputs": [
        {
          "output_type": "stream",
          "name": "stdout",
          "text": [
            "Looking in indexes: https://pypi.org/simple, https://us-python.pkg.dev/colab-wheels/public/simple/\n",
            "Requirement already satisfied: xgboost in /usr/local/lib/python3.7/dist-packages (0.90)\n",
            "Requirement already satisfied: scipy in /usr/local/lib/python3.7/dist-packages (from xgboost) (1.4.1)\n",
            "Requirement already satisfied: numpy in /usr/local/lib/python3.7/dist-packages (from xgboost) (1.21.6)\n"
          ]
        }
      ],
      "source": [
        "#installing relevant libraries\n",
        "!pip install xgboost\n",
        "import pandas as pd\n",
        "import numpy as np\n",
        "from sklearn.linear_model import Ridge, Lasso\n",
        "from sklearn.preprocessing import OneHotEncoder\n",
        "from sklearn.impute import SimpleImputer\n",
        "from sklearn.preprocessing import StandardScaler, MaxAbsScaler, MinMaxScaler, Normalizer, OneHotEncoder\n",
        "from sklearn.pipeline import Pipeline\n",
        "from sklearn.linear_model import LogisticRegression, ElasticNet\n",
        "from sklearn.feature_selection import VarianceThreshold\n",
        "from sklearn.model_selection import GridSearchCV,RandomizedSearchCV, train_test_split\n",
        "from sklearn.compose import ColumnTransformer\n",
        "from sklearn.metrics import mean_squared_error\n",
        "from sklearn.tree import DecisionTreeRegressor\n",
        "from sklearn.ensemble import RandomForestRegressor\n",
        "from xgboost import XGBRegressor"
      ],
      "id": "81e4d5a3"
    },
    {
      "cell_type": "code",
      "execution_count": null,
      "metadata": {
        "id": "d2657112"
      },
      "outputs": [],
      "source": [
        "#importing data from my github profile\n",
        "df=pd.read_csv(\"https://raw.githubusercontent.com/VIPlearner/csv-files/main/Train.csv\", index_col=\"VehicleID\")\n"
      ],
      "id": "d2657112"
    },
    {
      "cell_type": "code",
      "source": [
        "#dropping irrelevant features\n",
        "df.drop(['Colour'], axis = 1, inplace = True)\n",
        "#df.drop(['Maker'], axis = 1, inplace = True)\n",
        "#df.drop(['Model'], axis = 1, inplace = True)\n",
        "df.drop(['Distance'], axis = 1, inplace = True)\n"
      ],
      "metadata": {
        "id": "o2WZUa3h3xtt"
      },
      "id": "o2WZUa3h3xtt",
      "execution_count": null,
      "outputs": []
    },
    {
      "cell_type": "code",
      "source": [
        "#converting 'Year' column to float\n",
        "df['Year'] = df['Year'].str.replace(',', '').astype(float)\n",
        "# df['Distance'] = df['Distance'].str.replace(',', '').astype(float)\n"
      ],
      "metadata": {
        "id": "t8YsePIT3zc5"
      },
      "id": "t8YsePIT3zc5",
      "execution_count": null,
      "outputs": []
    },
    {
      "cell_type": "code",
      "source": [
        "#converting categorical columns to dtype category for the One Hot Encoder\n",
        "df['Location'] = df.Location.astype('category')\n",
        "df['Type'] = df.Type.astype('category')\n",
        "df['Maker'] = df.Maker.astype('category')\n",
        "df['Model'] = df.Model.astype('category')\n",
        "# df['Colour'] = df.Colour.astype('category')\n"
      ],
      "metadata": {
        "id": "Gdcd8_nc3154"
      },
      "id": "Gdcd8_nc3154",
      "execution_count": null,
      "outputs": []
    },
    {
      "cell_type": "code",
      "source": [
        "#dropping missing data\n",
        "df = df[~(np.isnan(df[\"Amount (Million Naira)\"]))]\n",
        "\n",
        "#splitting data in train and test using train_test_split\n",
        "X_train, X_test, y_train, y_test = train_test_split(df.drop(['Amount (Million Naira)'], axis = 1), df['Amount (Million Naira)'],\n",
        "                                                    test_size = 0.3,\n",
        "                                                   random_state = 42)\n",
        "df.info()"
      ],
      "metadata": {
        "colab": {
          "base_uri": "https://localhost:8080/"
        },
        "id": "MgkA51JR33fF",
        "outputId": "704c829c-c15b-461f-da60-9c0c5859b9ea"
      },
      "id": "MgkA51JR33fF",
      "execution_count": null,
      "outputs": [
        {
          "output_type": "stream",
          "name": "stdout",
          "text": [
            "<class 'pandas.core.frame.DataFrame'>\n",
            "Index: 7188 entries, VHL12546 to VHL15246\n",
            "Data columns (total 6 columns):\n",
            " #   Column                  Non-Null Count  Dtype   \n",
            "---  ------                  --------------  -----   \n",
            " 0   Location                7188 non-null   category\n",
            " 1   Maker                   7188 non-null   category\n",
            " 2   Model                   7188 non-null   category\n",
            " 3   Year                    7167 non-null   float64 \n",
            " 4   Amount (Million Naira)  7188 non-null   float64 \n",
            " 5   Type                    6992 non-null   category\n",
            "dtypes: category(4), float64(2)\n",
            "memory usage: 506.2+ KB\n"
          ]
        }
      ]
    },
    {
      "cell_type": "code",
      "execution_count": null,
      "metadata": {
        "id": "c4dc671c"
      },
      "outputs": [],
      "source": [
        "#numeric_features = [\"Year\", \"Type\"]\n",
        "#defining pipeline steps for preprocessing each column\n",
        "year_transformer = Pipeline(\n",
        "    steps=[(\"imputer\", SimpleImputer(strategy=\"most_frequent\")), (\"scaler\", MinMaxScaler())]\n",
        ")\n",
        "\n",
        "distance_transformer = Pipeline(\n",
        "    steps=[(\"imputer\", SimpleImputer(strategy=\"mean\")), (\"scaler\", MinMaxScaler())]\n",
        ")\n",
        "\n",
        "type_transformer = Pipeline(\n",
        "    steps=[(\"imputer\", SimpleImputer(strategy=\"most_frequent\")), (\"encoder\", OneHotEncoder(handle_unknown=\"ignore\"))]\n",
        ")\n",
        "\n",
        "categorical_features = [\"Location\", 'Maker', 'Model', ]\n",
        "categorical_transformer = OneHotEncoder(handle_unknown=\"ignore\")\n",
        "\n",
        "preprocessor = ColumnTransformer(\n",
        "    transformers=[\n",
        "        (\"year\", year_transformer, [\"Year\"]),\n",
        "        # (\"distance\", year_transformer, [\"Distance\"]),\n",
        "        (\"cat\", categorical_transformer, categorical_features),\n",
        "        (\"type_cat\", type_transformer, [\"Type\"]),  \n",
        "    ]\n",
        ")"
      ],
      "id": "c4dc671c"
    },
    {
      "cell_type": "code",
      "execution_count": null,
      "metadata": {
        "id": "5c598ae4"
      },
      "outputs": [],
      "source": [
        "# defining pipeline for the entire model\n",
        "pipeline = Pipeline(\n",
        "  steps=[(\"preprocessor\", preprocessor), (\"estimator\", XGBRegressor())] \n",
        ")\n",
        "# colsample_bytree = 1, learning_rate = 0.1, max_depth = 3, n_estimators = 3000"
      ],
      "id": "5c598ae4"
    },
    {
      "cell_type": "code",
      "execution_count": null,
      "metadata": {
        "id": "4d2c5b7e",
        "scrolled": true,
        "colab": {
          "base_uri": "https://localhost:8080/"
        },
        "outputId": "bf10f233-d3b4-46c0-ee7d-d83eacf03d54"
      },
      "outputs": [
        {
          "output_type": "execute_result",
          "data": {
            "text/plain": [
              "dict_keys(['memory', 'steps', 'verbose', 'preprocessor', 'estimator', 'preprocessor__n_jobs', 'preprocessor__remainder', 'preprocessor__sparse_threshold', 'preprocessor__transformer_weights', 'preprocessor__transformers', 'preprocessor__verbose', 'preprocessor__verbose_feature_names_out', 'preprocessor__year', 'preprocessor__cat', 'preprocessor__type_cat', 'preprocessor__year__memory', 'preprocessor__year__steps', 'preprocessor__year__verbose', 'preprocessor__year__imputer', 'preprocessor__year__scaler', 'preprocessor__year__imputer__add_indicator', 'preprocessor__year__imputer__copy', 'preprocessor__year__imputer__fill_value', 'preprocessor__year__imputer__missing_values', 'preprocessor__year__imputer__strategy', 'preprocessor__year__imputer__verbose', 'preprocessor__year__scaler__clip', 'preprocessor__year__scaler__copy', 'preprocessor__year__scaler__feature_range', 'preprocessor__cat__categories', 'preprocessor__cat__drop', 'preprocessor__cat__dtype', 'preprocessor__cat__handle_unknown', 'preprocessor__cat__sparse', 'preprocessor__type_cat__memory', 'preprocessor__type_cat__steps', 'preprocessor__type_cat__verbose', 'preprocessor__type_cat__imputer', 'preprocessor__type_cat__encoder', 'preprocessor__type_cat__imputer__add_indicator', 'preprocessor__type_cat__imputer__copy', 'preprocessor__type_cat__imputer__fill_value', 'preprocessor__type_cat__imputer__missing_values', 'preprocessor__type_cat__imputer__strategy', 'preprocessor__type_cat__imputer__verbose', 'preprocessor__type_cat__encoder__categories', 'preprocessor__type_cat__encoder__drop', 'preprocessor__type_cat__encoder__dtype', 'preprocessor__type_cat__encoder__handle_unknown', 'preprocessor__type_cat__encoder__sparse', 'estimator__base_score', 'estimator__booster', 'estimator__colsample_bylevel', 'estimator__colsample_bynode', 'estimator__colsample_bytree', 'estimator__gamma', 'estimator__importance_type', 'estimator__learning_rate', 'estimator__max_delta_step', 'estimator__max_depth', 'estimator__min_child_weight', 'estimator__missing', 'estimator__n_estimators', 'estimator__n_jobs', 'estimator__nthread', 'estimator__objective', 'estimator__random_state', 'estimator__reg_alpha', 'estimator__reg_lambda', 'estimator__scale_pos_weight', 'estimator__seed', 'estimator__silent', 'estimator__subsample', 'estimator__verbosity'])"
            ]
          },
          "metadata": {},
          "execution_count": 34
        }
      ],
      "source": [
        "pipeline.get_params().keys()"
      ],
      "id": "4d2c5b7e"
    },
    {
      "cell_type": "markdown",
      "source": [
        ""
      ],
      "metadata": {
        "id": "wxPh68WcI0WL"
      },
      "id": "wxPh68WcI0WL"
    },
    {
      "cell_type": "code",
      "execution_count": null,
      "metadata": {
        "id": "531cc89d"
      },
      "outputs": [],
      "source": [
        "#this parameter variable was defined for the GridSearchCV to determine the best parameters for the model \n",
        "# parameters = {#'estimator__alpha': [1],\n",
        "#               #'estimator':[DecisionTreeRegressor()],\n",
        "#               # 'estimator__n_estimators': [3000],\n",
        "#               # 'estimator__max_features': ['auto']\n",
        "# }"
      ],
      "id": "531cc89d"
    },
    {
      "cell_type": "code",
      "execution_count": null,
      "metadata": {
        "id": "13934869",
        "colab": {
          "base_uri": "https://localhost:8080/"
        },
        "outputId": "e91d87f6-f1fa-40d9-cdf7-bb1a7ede9496"
      },
      "outputs": [
        {
          "output_type": "stream",
          "name": "stdout",
          "text": [
            "[20:44:53] WARNING: /workspace/src/objective/regression_obj.cu:152: reg:linear is now deprecated in favor of reg:squarederror.\n"
          ]
        },
        {
          "output_type": "execute_result",
          "data": {
            "text/plain": [
              "Pipeline(steps=[('preprocessor',\n",
              "                 ColumnTransformer(transformers=[('year',\n",
              "                                                  Pipeline(steps=[('imputer',\n",
              "                                                                   SimpleImputer(strategy='most_frequent')),\n",
              "                                                                  ('scaler',\n",
              "                                                                   MinMaxScaler())]),\n",
              "                                                  ['Year']),\n",
              "                                                 ('cat',\n",
              "                                                  OneHotEncoder(handle_unknown='ignore'),\n",
              "                                                  ['Location', 'Maker',\n",
              "                                                   'Model']),\n",
              "                                                 ('type_cat',\n",
              "                                                  Pipeline(steps=[('imputer',\n",
              "                                                                   SimpleImputer(strategy='most_frequent')),\n",
              "                                                                  ('encoder',\n",
              "                                                                   OneHotEncoder(handle_unknown='ignore'))]),\n",
              "                                                  ['Type'])])),\n",
              "                ('estimator', XGBRegressor())])"
            ]
          },
          "metadata": {},
          "execution_count": 36
        }
      ],
      "source": [
        "# grid = RandomizedSearchCV(pipeline, parameters, cv=2, n_iter=50)\n",
        "\n",
        "pipeline.fit(df.drop(['Amount (Million Naira)'], axis = 1), df['Amount (Million Naira)'])   "
      ],
      "id": "13934869"
    },
    {
      "cell_type": "code",
      "execution_count": null,
      "metadata": {
        "id": "2c87c43b"
      },
      "outputs": [],
      "source": [
        "# grid.best_params_"
      ],
      "id": "2c87c43b"
    },
    {
      "cell_type": "code",
      "execution_count": null,
      "metadata": {
        "id": "30a49d79",
        "colab": {
          "base_uri": "https://localhost:8080/"
        },
        "outputId": "4a56ce9b-651b-4dc3-c3f5-932ddc452aef"
      },
      "outputs": [
        {
          "output_type": "stream",
          "name": "stdout",
          "text": [
            "model score: 0.790\n",
            "10.027662190972178\n"
          ]
        }
      ],
      "source": [
        "#measuring model performance\n",
        "print(\"model score: %.3f\" % pipeline.score(X_test, y_test))\n",
        "y_pred = pipeline.predict(X_test)\n",
        "errors = mean_squared_error(y_test, y_pred, squared = False)\n",
        "print(errors)"
      ],
      "id": "30a49d79"
    },
    {
      "cell_type": "code",
      "execution_count": null,
      "metadata": {
        "id": "w-I508ktSDmh"
      },
      "outputs": [],
      "source": [
        ""
      ],
      "id": "w-I508ktSDmh"
    },
    {
      "cell_type": "code",
      "execution_count": null,
      "metadata": {
        "id": "vklNCKe8TlPQ"
      },
      "outputs": [],
      "source": [
        "# Repeating preprocessing steps for the test file\n",
        "test_df=pd.read_csv(\"https://raw.githubusercontent.com/VIPlearner/csv-files/main/Test.csv\")\n",
        "test_df.head()\n",
        "#dropping irrelevant features\n",
        "# test_df.drop(['Colour'], axis = 1, inplace = True)\n",
        "# test_df.drop(['Maker'], axis = 1, inplace = True)\n",
        "# test_df.drop(['Model'], axis = 1, inplace = True)\n",
        "test_df['Year'] = test_df['Year'].str.replace(',', '').astype(float)\n",
        "#test_df['Distance'] = test_df['Distance'].str.replace(',', '').astype(float)\n",
        "test_df['Location'] = test_df.Location.astype('category')\n",
        "test_df['Type'] = test_df.Type.astype('category')\n",
        "test_df['Maker'] = test_df.Maker.astype('category')\n",
        "test_df['Model'] = test_df.Model.astype('category')\n",
        "test_df['Colour'] = test_df.Colour.astype('category')"
      ],
      "id": "vklNCKe8TlPQ"
    },
    {
      "cell_type": "code",
      "execution_count": null,
      "metadata": {
        "colab": {
          "base_uri": "https://localhost:8080/"
        },
        "id": "2ZnzzelwbasF",
        "outputId": "f5c4753c-adef-483e-b184-c72950695075"
      },
      "outputs": [
        {
          "output_type": "stream",
          "name": "stdout",
          "text": [
            "<class 'pandas.core.frame.DataFrame'>\n",
            "RangeIndex: 2061 entries, 0 to 2060\n",
            "Data columns (total 8 columns):\n",
            " #   Column     Non-Null Count  Dtype   \n",
            "---  ------     --------------  -----   \n",
            " 0   VehicleID  2061 non-null   object  \n",
            " 1   Location   2061 non-null   category\n",
            " 2   Maker      2061 non-null   category\n",
            " 3   Model      2061 non-null   category\n",
            " 4   Year       2059 non-null   float64 \n",
            " 5   Colour     2061 non-null   category\n",
            " 6   Type       2007 non-null   category\n",
            " 7   Distance   1385 non-null   float64 \n",
            "dtypes: category(5), float64(2), object(1)\n",
            "memory usage: 83.6+ KB\n"
          ]
        }
      ],
      "source": [
        "test_df.info()"
      ],
      "id": "2ZnzzelwbasF"
    },
    {
      "cell_type": "code",
      "execution_count": null,
      "metadata": {
        "id": "CAabNkyVbrMq"
      },
      "outputs": [],
      "source": [
        "test_y_pred = pipeline.predict(test_df)"
      ],
      "id": "CAabNkyVbrMq"
    },
    {
      "cell_type": "code",
      "execution_count": null,
      "metadata": {
        "colab": {
          "base_uri": "https://localhost:8080/",
          "height": 206
        },
        "id": "oZkdrFkfcFYN",
        "outputId": "c5910ce8-c737-4d2b-8bfd-771bfbcf7d95"
      },
      "outputs": [
        {
          "output_type": "execute_result",
          "data": {
            "text/plain": [
              "  VehicleID  Amount (Million Naira)\n",
              "0  VHL18518                4.676809\n",
              "1  VHL17149                7.460948\n",
              "2  VHL10927                4.425385\n",
              "3  VHL12909                6.117086\n",
              "4  VHL12348                8.025303"
            ],
            "text/html": [
              "\n",
              "  <div id=\"df-9348402f-3c5b-4c68-bf0c-0638cb34ecc0\">\n",
              "    <div class=\"colab-df-container\">\n",
              "      <div>\n",
              "<style scoped>\n",
              "    .dataframe tbody tr th:only-of-type {\n",
              "        vertical-align: middle;\n",
              "    }\n",
              "\n",
              "    .dataframe tbody tr th {\n",
              "        vertical-align: top;\n",
              "    }\n",
              "\n",
              "    .dataframe thead th {\n",
              "        text-align: right;\n",
              "    }\n",
              "</style>\n",
              "<table border=\"1\" class=\"dataframe\">\n",
              "  <thead>\n",
              "    <tr style=\"text-align: right;\">\n",
              "      <th></th>\n",
              "      <th>VehicleID</th>\n",
              "      <th>Amount (Million Naira)</th>\n",
              "    </tr>\n",
              "  </thead>\n",
              "  <tbody>\n",
              "    <tr>\n",
              "      <th>0</th>\n",
              "      <td>VHL18518</td>\n",
              "      <td>4.676809</td>\n",
              "    </tr>\n",
              "    <tr>\n",
              "      <th>1</th>\n",
              "      <td>VHL17149</td>\n",
              "      <td>7.460948</td>\n",
              "    </tr>\n",
              "    <tr>\n",
              "      <th>2</th>\n",
              "      <td>VHL10927</td>\n",
              "      <td>4.425385</td>\n",
              "    </tr>\n",
              "    <tr>\n",
              "      <th>3</th>\n",
              "      <td>VHL12909</td>\n",
              "      <td>6.117086</td>\n",
              "    </tr>\n",
              "    <tr>\n",
              "      <th>4</th>\n",
              "      <td>VHL12348</td>\n",
              "      <td>8.025303</td>\n",
              "    </tr>\n",
              "  </tbody>\n",
              "</table>\n",
              "</div>\n",
              "      <button class=\"colab-df-convert\" onclick=\"convertToInteractive('df-9348402f-3c5b-4c68-bf0c-0638cb34ecc0')\"\n",
              "              title=\"Convert this dataframe to an interactive table.\"\n",
              "              style=\"display:none;\">\n",
              "        \n",
              "  <svg xmlns=\"http://www.w3.org/2000/svg\" height=\"24px\"viewBox=\"0 0 24 24\"\n",
              "       width=\"24px\">\n",
              "    <path d=\"M0 0h24v24H0V0z\" fill=\"none\"/>\n",
              "    <path d=\"M18.56 5.44l.94 2.06.94-2.06 2.06-.94-2.06-.94-.94-2.06-.94 2.06-2.06.94zm-11 1L8.5 8.5l.94-2.06 2.06-.94-2.06-.94L8.5 2.5l-.94 2.06-2.06.94zm10 10l.94 2.06.94-2.06 2.06-.94-2.06-.94-.94-2.06-.94 2.06-2.06.94z\"/><path d=\"M17.41 7.96l-1.37-1.37c-.4-.4-.92-.59-1.43-.59-.52 0-1.04.2-1.43.59L10.3 9.45l-7.72 7.72c-.78.78-.78 2.05 0 2.83L4 21.41c.39.39.9.59 1.41.59.51 0 1.02-.2 1.41-.59l7.78-7.78 2.81-2.81c.8-.78.8-2.07 0-2.86zM5.41 20L4 18.59l7.72-7.72 1.47 1.35L5.41 20z\"/>\n",
              "  </svg>\n",
              "      </button>\n",
              "      \n",
              "  <style>\n",
              "    .colab-df-container {\n",
              "      display:flex;\n",
              "      flex-wrap:wrap;\n",
              "      gap: 12px;\n",
              "    }\n",
              "\n",
              "    .colab-df-convert {\n",
              "      background-color: #E8F0FE;\n",
              "      border: none;\n",
              "      border-radius: 50%;\n",
              "      cursor: pointer;\n",
              "      display: none;\n",
              "      fill: #1967D2;\n",
              "      height: 32px;\n",
              "      padding: 0 0 0 0;\n",
              "      width: 32px;\n",
              "    }\n",
              "\n",
              "    .colab-df-convert:hover {\n",
              "      background-color: #E2EBFA;\n",
              "      box-shadow: 0px 1px 2px rgba(60, 64, 67, 0.3), 0px 1px 3px 1px rgba(60, 64, 67, 0.15);\n",
              "      fill: #174EA6;\n",
              "    }\n",
              "\n",
              "    [theme=dark] .colab-df-convert {\n",
              "      background-color: #3B4455;\n",
              "      fill: #D2E3FC;\n",
              "    }\n",
              "\n",
              "    [theme=dark] .colab-df-convert:hover {\n",
              "      background-color: #434B5C;\n",
              "      box-shadow: 0px 1px 3px 1px rgba(0, 0, 0, 0.15);\n",
              "      filter: drop-shadow(0px 1px 2px rgba(0, 0, 0, 0.3));\n",
              "      fill: #FFFFFF;\n",
              "    }\n",
              "  </style>\n",
              "\n",
              "      <script>\n",
              "        const buttonEl =\n",
              "          document.querySelector('#df-9348402f-3c5b-4c68-bf0c-0638cb34ecc0 button.colab-df-convert');\n",
              "        buttonEl.style.display =\n",
              "          google.colab.kernel.accessAllowed ? 'block' : 'none';\n",
              "\n",
              "        async function convertToInteractive(key) {\n",
              "          const element = document.querySelector('#df-9348402f-3c5b-4c68-bf0c-0638cb34ecc0');\n",
              "          const dataTable =\n",
              "            await google.colab.kernel.invokeFunction('convertToInteractive',\n",
              "                                                     [key], {});\n",
              "          if (!dataTable) return;\n",
              "\n",
              "          const docLinkHtml = 'Like what you see? Visit the ' +\n",
              "            '<a target=\"_blank\" href=https://colab.research.google.com/notebooks/data_table.ipynb>data table notebook</a>'\n",
              "            + ' to learn more about interactive tables.';\n",
              "          element.innerHTML = '';\n",
              "          dataTable['output_type'] = 'display_data';\n",
              "          await google.colab.output.renderOutput(dataTable, element);\n",
              "          const docLink = document.createElement('div');\n",
              "          docLink.innerHTML = docLinkHtml;\n",
              "          element.appendChild(docLink);\n",
              "        }\n",
              "      </script>\n",
              "    </div>\n",
              "  </div>\n",
              "  "
            ]
          },
          "metadata": {},
          "execution_count": 42
        }
      ],
      "source": [
        "test_pred_df = pd.DataFrame({'VehicleID' : test_df['VehicleID'], 'Amount (Million Naira)': test_y_pred})\n",
        "test_pred_df.head()"
      ],
      "id": "oZkdrFkfcFYN"
    },
    {
      "cell_type": "code",
      "source": [
        ""
      ],
      "metadata": {
        "id": "a7HJ0M8y5Wo8"
      },
      "id": "a7HJ0M8y5Wo8",
      "execution_count": null,
      "outputs": []
    },
    {
      "cell_type": "code",
      "execution_count": null,
      "metadata": {
        "id": "uMIO-R8OeXg_"
      },
      "outputs": [],
      "source": [
        "# converting dataframe to csv file\n",
        "test_pred_df.to_csv('ninthtry.csv', encoding='utf-8', index=False)"
      ],
      "id": "uMIO-R8OeXg_"
    },
    {
      "cell_type": "code",
      "execution_count": null,
      "metadata": {
        "colab": {
          "base_uri": "https://localhost:8080/",
          "height": 34
        },
        "id": "9LMqM267gSb9",
        "outputId": "8686762e-70e5-4402-9b5e-0e37ec583c51"
      },
      "outputs": [
        {
          "output_type": "display_data",
          "data": {
            "text/plain": [
              "<IPython.core.display.Javascript object>"
            ],
            "application/javascript": [
              "\n",
              "    async function download(id, filename, size) {\n",
              "      if (!google.colab.kernel.accessAllowed) {\n",
              "        return;\n",
              "      }\n",
              "      const div = document.createElement('div');\n",
              "      const label = document.createElement('label');\n",
              "      label.textContent = `Downloading \"${filename}\": `;\n",
              "      div.appendChild(label);\n",
              "      const progress = document.createElement('progress');\n",
              "      progress.max = size;\n",
              "      div.appendChild(progress);\n",
              "      document.body.appendChild(div);\n",
              "\n",
              "      const buffers = [];\n",
              "      let downloaded = 0;\n",
              "\n",
              "      const channel = await google.colab.kernel.comms.open(id);\n",
              "      // Send a message to notify the kernel that we're ready.\n",
              "      channel.send({})\n",
              "\n",
              "      for await (const message of channel.messages) {\n",
              "        // Send a message to notify the kernel that we're ready.\n",
              "        channel.send({})\n",
              "        if (message.buffers) {\n",
              "          for (const buffer of message.buffers) {\n",
              "            buffers.push(buffer);\n",
              "            downloaded += buffer.byteLength;\n",
              "            progress.value = downloaded;\n",
              "          }\n",
              "        }\n",
              "      }\n",
              "      const blob = new Blob(buffers, {type: 'application/binary'});\n",
              "      const a = document.createElement('a');\n",
              "      a.href = window.URL.createObjectURL(blob);\n",
              "      a.download = filename;\n",
              "      div.appendChild(a);\n",
              "      a.click();\n",
              "      div.remove();\n",
              "    }\n",
              "  "
            ]
          },
          "metadata": {}
        },
        {
          "output_type": "display_data",
          "data": {
            "text/plain": [
              "<IPython.core.display.Javascript object>"
            ],
            "application/javascript": [
              "download(\"download_c6c4a056-5191-406f-abc9-a7c297c85286\", \"ninthtry.csv\", 38302)"
            ]
          },
          "metadata": {}
        }
      ],
      "source": [
        "# downloading csv file\n",
        "from google.colab import files\n",
        "files.download(\"ninthtry.csv\")"
      ],
      "id": "9LMqM267gSb9"
    },
    {
      "cell_type": "code",
      "execution_count": null,
      "metadata": {
        "id": "_hhiRGsJhIQL",
        "colab": {
          "base_uri": "https://localhost:8080/",
          "height": 35
        },
        "outputId": "cdfe54e4-a119-4039-ed36-242601583fad"
      },
      "outputs": [
        {
          "output_type": "execute_result",
          "data": {
            "text/plain": [
              "''"
            ],
            "application/vnd.google.colaboratory.intrinsic+json": {
              "type": "string"
            }
          },
          "metadata": {},
          "execution_count": 45
        }
      ],
      "source": [
        "import tensorflow as tf\n",
        "tf.test.gpu_device_name()"
      ],
      "id": "_hhiRGsJhIQL"
    },
    {
      "cell_type": "code",
      "source": [
        "# pd.read_excel()"
      ],
      "metadata": {
        "id": "VMMUwNJ4xnYq"
      },
      "id": "VMMUwNJ4xnYq",
      "execution_count": null,
      "outputs": []
    },
    {
      "cell_type": "code",
      "source": [
        "fit = pd.read_csv('ninthtry.csv', index_col = 'VehicleID')\n",
        "fit.reset_index()"
      ],
      "metadata": {
        "id": "2COnZkgh_fiV",
        "colab": {
          "base_uri": "https://localhost:8080/",
          "height": 424
        },
        "outputId": "ce971a9d-59eb-4afe-bdf5-74871883cf1a"
      },
      "id": "2COnZkgh_fiV",
      "execution_count": null,
      "outputs": [
        {
          "output_type": "execute_result",
          "data": {
            "text/plain": [
              "     VehicleID  Amount (Million Naira)\n",
              "0     VHL18518                4.676809\n",
              "1     VHL17149                7.460948\n",
              "2     VHL10927                4.425384\n",
              "3     VHL12909                6.117086\n",
              "4     VHL12348                8.025303\n",
              "...        ...                     ...\n",
              "2056  VHL17903               26.745415\n",
              "2057  VHL14018                6.246005\n",
              "2058  VHL17473               10.226078\n",
              "2059  VHL11480                8.025303\n",
              "2060  VHL13881                4.676809\n",
              "\n",
              "[2061 rows x 2 columns]"
            ],
            "text/html": [
              "\n",
              "  <div id=\"df-0753e416-884a-4c95-96b7-854d8ac1cbd3\">\n",
              "    <div class=\"colab-df-container\">\n",
              "      <div>\n",
              "<style scoped>\n",
              "    .dataframe tbody tr th:only-of-type {\n",
              "        vertical-align: middle;\n",
              "    }\n",
              "\n",
              "    .dataframe tbody tr th {\n",
              "        vertical-align: top;\n",
              "    }\n",
              "\n",
              "    .dataframe thead th {\n",
              "        text-align: right;\n",
              "    }\n",
              "</style>\n",
              "<table border=\"1\" class=\"dataframe\">\n",
              "  <thead>\n",
              "    <tr style=\"text-align: right;\">\n",
              "      <th></th>\n",
              "      <th>VehicleID</th>\n",
              "      <th>Amount (Million Naira)</th>\n",
              "    </tr>\n",
              "  </thead>\n",
              "  <tbody>\n",
              "    <tr>\n",
              "      <th>0</th>\n",
              "      <td>VHL18518</td>\n",
              "      <td>4.676809</td>\n",
              "    </tr>\n",
              "    <tr>\n",
              "      <th>1</th>\n",
              "      <td>VHL17149</td>\n",
              "      <td>7.460948</td>\n",
              "    </tr>\n",
              "    <tr>\n",
              "      <th>2</th>\n",
              "      <td>VHL10927</td>\n",
              "      <td>4.425384</td>\n",
              "    </tr>\n",
              "    <tr>\n",
              "      <th>3</th>\n",
              "      <td>VHL12909</td>\n",
              "      <td>6.117086</td>\n",
              "    </tr>\n",
              "    <tr>\n",
              "      <th>4</th>\n",
              "      <td>VHL12348</td>\n",
              "      <td>8.025303</td>\n",
              "    </tr>\n",
              "    <tr>\n",
              "      <th>...</th>\n",
              "      <td>...</td>\n",
              "      <td>...</td>\n",
              "    </tr>\n",
              "    <tr>\n",
              "      <th>2056</th>\n",
              "      <td>VHL17903</td>\n",
              "      <td>26.745415</td>\n",
              "    </tr>\n",
              "    <tr>\n",
              "      <th>2057</th>\n",
              "      <td>VHL14018</td>\n",
              "      <td>6.246005</td>\n",
              "    </tr>\n",
              "    <tr>\n",
              "      <th>2058</th>\n",
              "      <td>VHL17473</td>\n",
              "      <td>10.226078</td>\n",
              "    </tr>\n",
              "    <tr>\n",
              "      <th>2059</th>\n",
              "      <td>VHL11480</td>\n",
              "      <td>8.025303</td>\n",
              "    </tr>\n",
              "    <tr>\n",
              "      <th>2060</th>\n",
              "      <td>VHL13881</td>\n",
              "      <td>4.676809</td>\n",
              "    </tr>\n",
              "  </tbody>\n",
              "</table>\n",
              "<p>2061 rows × 2 columns</p>\n",
              "</div>\n",
              "      <button class=\"colab-df-convert\" onclick=\"convertToInteractive('df-0753e416-884a-4c95-96b7-854d8ac1cbd3')\"\n",
              "              title=\"Convert this dataframe to an interactive table.\"\n",
              "              style=\"display:none;\">\n",
              "        \n",
              "  <svg xmlns=\"http://www.w3.org/2000/svg\" height=\"24px\"viewBox=\"0 0 24 24\"\n",
              "       width=\"24px\">\n",
              "    <path d=\"M0 0h24v24H0V0z\" fill=\"none\"/>\n",
              "    <path d=\"M18.56 5.44l.94 2.06.94-2.06 2.06-.94-2.06-.94-.94-2.06-.94 2.06-2.06.94zm-11 1L8.5 8.5l.94-2.06 2.06-.94-2.06-.94L8.5 2.5l-.94 2.06-2.06.94zm10 10l.94 2.06.94-2.06 2.06-.94-2.06-.94-.94-2.06-.94 2.06-2.06.94z\"/><path d=\"M17.41 7.96l-1.37-1.37c-.4-.4-.92-.59-1.43-.59-.52 0-1.04.2-1.43.59L10.3 9.45l-7.72 7.72c-.78.78-.78 2.05 0 2.83L4 21.41c.39.39.9.59 1.41.59.51 0 1.02-.2 1.41-.59l7.78-7.78 2.81-2.81c.8-.78.8-2.07 0-2.86zM5.41 20L4 18.59l7.72-7.72 1.47 1.35L5.41 20z\"/>\n",
              "  </svg>\n",
              "      </button>\n",
              "      \n",
              "  <style>\n",
              "    .colab-df-container {\n",
              "      display:flex;\n",
              "      flex-wrap:wrap;\n",
              "      gap: 12px;\n",
              "    }\n",
              "\n",
              "    .colab-df-convert {\n",
              "      background-color: #E8F0FE;\n",
              "      border: none;\n",
              "      border-radius: 50%;\n",
              "      cursor: pointer;\n",
              "      display: none;\n",
              "      fill: #1967D2;\n",
              "      height: 32px;\n",
              "      padding: 0 0 0 0;\n",
              "      width: 32px;\n",
              "    }\n",
              "\n",
              "    .colab-df-convert:hover {\n",
              "      background-color: #E2EBFA;\n",
              "      box-shadow: 0px 1px 2px rgba(60, 64, 67, 0.3), 0px 1px 3px 1px rgba(60, 64, 67, 0.15);\n",
              "      fill: #174EA6;\n",
              "    }\n",
              "\n",
              "    [theme=dark] .colab-df-convert {\n",
              "      background-color: #3B4455;\n",
              "      fill: #D2E3FC;\n",
              "    }\n",
              "\n",
              "    [theme=dark] .colab-df-convert:hover {\n",
              "      background-color: #434B5C;\n",
              "      box-shadow: 0px 1px 3px 1px rgba(0, 0, 0, 0.15);\n",
              "      filter: drop-shadow(0px 1px 2px rgba(0, 0, 0, 0.3));\n",
              "      fill: #FFFFFF;\n",
              "    }\n",
              "  </style>\n",
              "\n",
              "      <script>\n",
              "        const buttonEl =\n",
              "          document.querySelector('#df-0753e416-884a-4c95-96b7-854d8ac1cbd3 button.colab-df-convert');\n",
              "        buttonEl.style.display =\n",
              "          google.colab.kernel.accessAllowed ? 'block' : 'none';\n",
              "\n",
              "        async function convertToInteractive(key) {\n",
              "          const element = document.querySelector('#df-0753e416-884a-4c95-96b7-854d8ac1cbd3');\n",
              "          const dataTable =\n",
              "            await google.colab.kernel.invokeFunction('convertToInteractive',\n",
              "                                                     [key], {});\n",
              "          if (!dataTable) return;\n",
              "\n",
              "          const docLinkHtml = 'Like what you see? Visit the ' +\n",
              "            '<a target=\"_blank\" href=https://colab.research.google.com/notebooks/data_table.ipynb>data table notebook</a>'\n",
              "            + ' to learn more about interactive tables.';\n",
              "          element.innerHTML = '';\n",
              "          dataTable['output_type'] = 'display_data';\n",
              "          await google.colab.output.renderOutput(dataTable, element);\n",
              "          const docLink = document.createElement('div');\n",
              "          docLink.innerHTML = docLinkHtml;\n",
              "          element.appendChild(docLink);\n",
              "        }\n",
              "      </script>\n",
              "    </div>\n",
              "  </div>\n",
              "  "
            ]
          },
          "metadata": {},
          "execution_count": 47
        }
      ]
    },
    {
      "cell_type": "code",
      "source": [
        "class FunEvent:\n",
        "    def __init__(self, tags, year):\n",
        "        self.tags = tags\n",
        "        self.year = year\n",
        "    \n",
        "    def __str__(self):\n",
        "        return f\"FunEvent(tags={self.tags}, year={self.year})\"\n",
        "\n",
        "tags = [\"google\", \"ml\"]\n",
        "year = 2022\n",
        "bootcamp = FunEvent(tags, year)\n",
        "tags.append(\"bootcamp\")\n",
        "year = 2023\n",
        "print(bootcamp)"
      ],
      "metadata": {
        "colab": {
          "base_uri": "https://localhost:8080/"
        },
        "id": "ZTAkKD2x79Vi",
        "outputId": "618b9f07-8938-4789-ace8-bf4347601df4"
      },
      "id": "ZTAkKD2x79Vi",
      "execution_count": null,
      "outputs": [
        {
          "output_type": "stream",
          "name": "stdout",
          "text": [
            "FunEvent(tags=['google', 'ml', 'bootcamp'], year=2022)\n"
          ]
        }
      ]
    },
    {
      "cell_type": "code",
      "source": [
        "sqsum1()"
      ],
      "metadata": {
        "colab": {
          "base_uri": "https://localhost:8080/",
          "height": 165
        },
        "id": "Xt74GfjyOybS",
        "outputId": "446283a4-2111-444b-e352-22f44e0b1d9a"
      },
      "id": "Xt74GfjyOybS",
      "execution_count": null,
      "outputs": [
        {
          "output_type": "error",
          "ename": "NameError",
          "evalue": "ignored",
          "traceback": [
            "\u001b[0;31m---------------------------------------------------------------------------\u001b[0m",
            "\u001b[0;31mNameError\u001b[0m                                 Traceback (most recent call last)",
            "\u001b[0;32m<ipython-input-49-e8e7d4781883>\u001b[0m in \u001b[0;36m<module>\u001b[0;34m()\u001b[0m\n\u001b[0;32m----> 1\u001b[0;31m \u001b[0msqsum1\u001b[0m\u001b[0;34m(\u001b[0m\u001b[0;34m)\u001b[0m\u001b[0;34m\u001b[0m\u001b[0;34m\u001b[0m\u001b[0m\n\u001b[0m",
            "\u001b[0;31mNameError\u001b[0m: name 'sqsum1' is not defined"
          ]
        }
      ]
    },
    {
      "cell_type": "code",
      "source": [
        ""
      ],
      "metadata": {
        "id": "pDI23aylT8jA"
      },
      "id": "pDI23aylT8jA",
      "execution_count": null,
      "outputs": []
    }
  ],
  "metadata": {
    "colab": {
      "collapsed_sections": [],
      "name": "Joshua.ipynb",
      "provenance": [],
      "include_colab_link": true
    },
    "kernelspec": {
      "display_name": "Python 3 (ipykernel)",
      "language": "python",
      "name": "python3"
    },
    "language_info": {
      "codemirror_mode": {
        "name": "ipython",
        "version": 3
      },
      "file_extension": ".py",
      "mimetype": "text/x-python",
      "name": "python",
      "nbconvert_exporter": "python",
      "pygments_lexer": "ipython3",
      "version": "3.9.7"
    }
  },
  "nbformat": 4,
  "nbformat_minor": 5
}